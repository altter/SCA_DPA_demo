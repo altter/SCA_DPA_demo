{
 "cells": [
  {
   "cell_type": "markdown",
   "metadata": {},
   "source": [
    "## Import core packages ----------------------------------------------------------"
   ]
  },
  {
   "cell_type": "code",
   "execution_count": 45,
   "metadata": {},
   "outputs": [],
   "source": [
    "import chipwhisperer as cw\n",
    "from sklearn.preprocessing import StandardScaler\n",
    "from tqdm.notebook import tnrange, tqdm, tqdm_notebook\n",
    "import numpy as np\n",
    "import time\n",
    "import matplotlib.pyplot as plt\n",
    "from datetime import datetime\n",
    "import os\n",
    "from Crypto.Cipher import AES\n",
    "plot_size = {'width':15, 'height':4}"
   ]
  },
  {
   "cell_type": "markdown",
   "metadata": {},
   "source": [
    "## Setup scope --------------------------------------------------------------------"
   ]
  },
  {
   "cell_type": "code",
   "execution_count": 46,
   "metadata": {},
   "outputs": [],
   "source": [
    "SCOPETYPE = 'OPENADC'\n",
    "PLATFORM = 'CWLITEARM'\n",
    "CRYPTO_TARGET='TINYAES128C'\n",
    "SS_VER='SS_VER_1_1'"
   ]
  },
  {
   "cell_type": "code",
   "execution_count": null,
   "metadata": {},
   "outputs": [],
   "source": [
    "## Initialization routines for the CW scope\n",
    "try:\n",
    "    if not scope.connectStatus:\n",
    "        scope.con()\n",
    "except NameError:\n",
    "    scope = cw.scope()\n",
    "\n",
    "try:\n",
    "    if SS_VER == \"SS_VER_2_1\":\n",
    "        target_type = cw.targets.SimpleSerial2\n",
    "    elif SS_VER == \"SS_VER_2_0\":\n",
    "        raise OSError(\"SS_VER_2_0 is deprecated. Use SS_VER_2_1\")\n",
    "    else:\n",
    "        target_type = cw.targets.SimpleSerial\n",
    "except:\n",
    "    SS_VER=\"SS_VER_1_1\"\n",
    "    target_type = cw.targets.SimpleSerial\n",
    "\n",
    "try:\n",
    "    target = cw.target(scope, target_type)\n",
    "except:\n",
    "    print(\"INFO: Caught exception on reconnecting to target - attempting to reconnect to scope first.\")\n",
    "    print(\"INFO: This is a work-around when USB has died without Python knowing. Ignore errors above this line.\")\n",
    "    scope = cw.scope()\n",
    "    target = cw.target(scope, target_type)\n",
    "\n",
    "\n",
    "print(\"INFO: Found ChipWhisperer😍\")\n",
    "\n",
    "if \"STM\" in PLATFORM or PLATFORM == \"CWLITEARM\" or PLATFORM == \"CWNANO\":\n",
    "    prog = cw.programmers.STM32FProgrammer\n",
    "elif PLATFORM == \"CW303\" or PLATFORM == \"CWLITEXMEGA\":\n",
    "    prog = cw.programmers.XMEGAProgrammer\n",
    "elif \"neorv32\" in PLATFORM.lower():\n",
    "    prog = cw.programmers.NEORV32Programmer\n",
    "elif PLATFORM == \"CW308_SAM4S\":\n",
    "    prog = cw.programmers.SAM4SProgrammer\n",
    "else:\n",
    "    prog = None\n",
    "\n",
    "import time\n",
    "time.sleep(0.05)\n",
    "scope.default_setup()\n",
    "\n",
    "if PLATFORM == \"CW308_SAM4S\" or PLATFORM == \"CWHUSKY\":\n",
    "    scope.io.target_pwr = 0\n",
    "    time.sleep(0.2)\n",
    "    scope.io.target_pwr = 1\n",
    "    time.sleep(0.2)\n",
    "def reset_target(scope):\n",
    "    if PLATFORM == \"CW303\" or PLATFORM == \"CWLITEXMEGA\":\n",
    "        scope.io.pdic = 'low'\n",
    "        time.sleep(0.1)\n",
    "        scope.io.pdic = 'high_z' #XMEGA doesn't like pdic driven high\n",
    "        time.sleep(0.1) #xmega needs more startup time\n",
    "    elif \"neorv32\" in PLATFORM.lower():\n",
    "        raise IOError(\"Default iCE40 neorv32 build does not have external reset - reprogram device to reset\")\n",
    "    elif PLATFORM == \"CW308_SAM4S\":\n",
    "        scope.io.nrst = 'low'\n",
    "        time.sleep(0.25)\n",
    "        scope.io.nrst = 'high_z'\n",
    "        time.sleep(0.25)\n",
    "    else:  \n",
    "        scope.io.nrst = 'low'\n",
    "        time.sleep(0.05)\n",
    "        scope.io.nrst = 'high_z'\n",
    "        time.sleep(0.05)"
   ]
  },
  {
   "cell_type": "markdown",
   "metadata": {},
   "source": [
    "## Download the firmware -------------------------------------------------------"
   ]
  },
  {
   "cell_type": "code",
   "execution_count": null,
   "metadata": {},
   "outputs": [],
   "source": [
    "## Defined one env. variable with the location of the firmware (for convenience)\n",
    "print(os.environ['CW_FIRMWARES'])\n",
    "cw.program_target(scope, prog, os.path.join(os.environ['CW_FIRMWARES'], \"simpleserial-aes\",\"simpleserial-aes-{}.hex\".format(PLATFORM)))"
   ]
  },
  {
   "cell_type": "markdown",
   "metadata": {},
   "source": [
    "## Define demo helper functions ---------------------------------------------------"
   ]
  },
  {
   "cell_type": "code",
   "execution_count": 49,
   "metadata": {},
   "outputs": [],
   "source": [
    "## Functions to compute correlation for simple side-channel analysis\n",
    "##--\n",
    "##\n",
    "##---------------------------------------------------------------------------------------------------\n",
    "def compute_mean_std_data_byte(np_traces, np_text_in, text_in_pos, number_traces):   \n",
    "    # Create a StandardScaler for each byte position\n",
    "    trace_mean_std  = StandardScaler()\n",
    "    byte_scaler = StandardScaler()\n",
    "\n",
    "    for i in tnrange(number_traces, desc='[INFO]: computing mean and std (byte pos: {})'.format(text_in_pos)):\n",
    "        # partially fit the scaler of a byte position\n",
    "        byte_scaler.partial_fit(np_text_in[i][text_in_pos].reshape(1, -1))\n",
    "        trace_mean_std.partial_fit(np_traces[i].reshape(1, -1))\n",
    "    \n",
    "    return ([trace_mean_std.mean_, trace_mean_std.var_], [byte_scaler.mean_, byte_scaler.var_])\n",
    "\n",
    "##--\n",
    "##\n",
    "##---------------------------------------------------------------------------------------------------\n",
    "def compute_corr(np_traces, np_text_in, text_in_pos, number_traces):\n",
    "    # Get group\n",
    "    n_samples = np_traces.shape[1]\n",
    "    samples_corr    = np.zeros(shape=(n_samples,), dtype=np.float64)\n",
    "\n",
    "    all_means_std = compute_mean_std_data_byte(np_traces, np_text_in, text_in_pos, number_traces)\n",
    "    samples_mean  = all_means_std[0][0]\n",
    "    samples_std   = np.sqrt(all_means_std[0][1])\n",
    "    metadata_mean = all_means_std[1][0]\n",
    "    metadata_std  = np.sqrt(all_means_std[1][1])\n",
    "    \n",
    "    for i in tnrange(number_traces, desc='[INFO]: computing correlation (byte pos: {})'.format(text_in_pos)):\n",
    "        samples_corr = np.add(samples_corr, (np_traces[i] - samples_mean) * (np_text_in[i][text_in_pos] - metadata_mean))\n",
    "\n",
    "    if np.count_nonzero(metadata_std) == 0 or np.count_nonzero(samples_std) == 0:\n",
    "        print ('[WARNING]: Metadata or samples standard deviation of AES Sbox plaintext {} and key {} is zero'.format(text_in_pos, 0))\n",
    "        print ('[INFO]: Returning zero correlation')\n",
    "    else:\n",
    "        samples_corr = np.true_divide(samples_corr, ((number_traces - 1) * samples_std * metadata_std))\n",
    "    return samples_corr"
   ]
  },
  {
   "cell_type": "code",
   "execution_count": 50,
   "metadata": {},
   "outputs": [],
   "source": [
    "## Funtion to generate random input to encrypt with the crypto-algorithm\n",
    "def get_next_plaintext():\n",
    "    seed = int.from_bytes(os.urandom(4), byteorder=\"little\")\n",
    "    np.random.seed(seed)\n",
    "    return np.random.bytes(16)\n",
    "\n",
    "## To compute the inverse of the key scheduling\n",
    "\n",
    "AES_Sbox = np.array([\n",
    "        0x63, 0x7C, 0x77, 0x7B, 0xF2, 0x6B, 0x6F, 0xC5, 0x30, 0x01, 0x67, 0x2B, 0xFE, 0xD7, 0xAB, 0x76,\n",
    "        0xCA, 0x82, 0xC9, 0x7D, 0xFA, 0x59, 0x47, 0xF0, 0xAD, 0xD4, 0xA2, 0xAF, 0x9C, 0xA4, 0x72, 0xC0,\n",
    "        0xB7, 0xFD, 0x93, 0x26, 0x36, 0x3F, 0xF7, 0xCC, 0x34, 0xA5, 0xE5, 0xF1, 0x71, 0xD8, 0x31, 0x15,\n",
    "        0x04, 0xC7, 0x23, 0xC3, 0x18, 0x96, 0x05, 0x9A, 0x07, 0x12, 0x80, 0xE2, 0xEB, 0x27, 0xB2, 0x75,\n",
    "        0x09, 0x83, 0x2C, 0x1A, 0x1B, 0x6E, 0x5A, 0xA0, 0x52, 0x3B, 0xD6, 0xB3, 0x29, 0xE3, 0x2F, 0x84,\n",
    "        0x53, 0xD1, 0x00, 0xED, 0x20, 0xFC, 0xB1, 0x5B, 0x6A, 0xCB, 0xBE, 0x39, 0x4A, 0x4C, 0x58, 0xCF,\n",
    "        0xD0, 0xEF, 0xAA, 0xFB, 0x43, 0x4D, 0x33, 0x85, 0x45, 0xF9, 0x02, 0x7F, 0x50, 0x3C, 0x9F, 0xA8,\n",
    "        0x51, 0xA3, 0x40, 0x8F, 0x92, 0x9D, 0x38, 0xF5, 0xBC, 0xB6, 0xDA, 0x21, 0x10, 0xFF, 0xF3, 0xD2,\n",
    "        0xCD, 0x0C, 0x13, 0xEC, 0x5F, 0x97, 0x44, 0x17, 0xC4, 0xA7, 0x7E, 0x3D, 0x64, 0x5D, 0x19, 0x73,\n",
    "        0x60, 0x81, 0x4F, 0xDC, 0x22, 0x2A, 0x90, 0x88, 0x46, 0xEE, 0xB8, 0x14, 0xDE, 0x5E, 0x0B, 0xDB,\n",
    "        0xE0, 0x32, 0x3A, 0x0A, 0x49, 0x06, 0x24, 0x5C, 0xC2, 0xD3, 0xAC, 0x62, 0x91, 0x95, 0xE4, 0x79,\n",
    "        0xE7, 0xC8, 0x37, 0x6D, 0x8D, 0xD5, 0x4E, 0xA9, 0x6C, 0x56, 0xF4, 0xEA, 0x65, 0x7A, 0xAE, 0x08,\n",
    "        0xBA, 0x78, 0x25, 0x2E, 0x1C, 0xA6, 0xB4, 0xC6, 0xE8, 0xDD, 0x74, 0x1F, 0x4B, 0xBD, 0x8B, 0x8A,\n",
    "        0x70, 0x3E, 0xB5, 0x66, 0x48, 0x03, 0xF6, 0x0E, 0x61, 0x35, 0x57, 0xB9, 0x86, 0xC1, 0x1D, 0x9E,\n",
    "        0xE1, 0xF8, 0x98, 0x11, 0x69, 0xD9, 0x8E, 0x94, 0x9B, 0x1E, 0x87, 0xE9, 0xCE, 0x55, 0x28, 0xDF,\n",
    "        0x8C, 0xA1, 0x89, 0x0D, 0xBF, 0xE6, 0x42, 0x68, 0x41, 0x99, 0x2D, 0x0F, 0xB0, 0x54, 0xBB, 0x16\n",
    "        ], dtype=np.uint8)\n",
    "\n",
    "INV_SBOX = np.array([\n",
    "    0x52, 0x09, 0x6A, 0xD5, 0x30, 0x36, 0xA5, 0x38, 0xBF, 0x40, 0xA3, 0x9E, 0x81, 0xF3, 0xD7, 0xFB,\n",
    "    0x7C, 0xE3, 0x39, 0x82, 0x9B, 0x2F, 0xFF, 0x87, 0x34, 0x8E, 0x43, 0x44, 0xC4, 0xDE, 0xE9, 0xCB,\n",
    "    0x54, 0x7B, 0x94, 0x32, 0xA6, 0xC2, 0x23, 0x3D, 0xEE, 0x4C, 0x95, 0x0B, 0x42, 0xFA, 0xC3, 0x4E,\n",
    "    0x08, 0x2E, 0xA1, 0x66, 0x28, 0xD9, 0x24, 0xB2, 0x76, 0x5B, 0xA2, 0x49, 0x6D, 0x8B, 0xD1, 0x25,\n",
    "    0x72, 0xF8, 0xF6, 0x64, 0x86, 0x68, 0x98, 0x16, 0xD4, 0xA4, 0x5C, 0xCC, 0x5D, 0x65, 0xB6, 0x92,\n",
    "    0x6C, 0x70, 0x48, 0x50, 0xFD, 0xED, 0xB9, 0xDA, 0x5E, 0x15, 0x46, 0x57, 0xA7, 0x8D, 0x9D, 0x84,\n",
    "    0x90, 0xD8, 0xAB, 0x00, 0x8C, 0xBC, 0xD3, 0x0A, 0xF7, 0xE4, 0x58, 0x05, 0xB8, 0xB3, 0x45, 0x06,\n",
    "    0xD0, 0x2C, 0x1E, 0x8F, 0xCA, 0x3F, 0x0F, 0x02, 0xC1, 0xAF, 0xBD, 0x03, 0x01, 0x13, 0x8A, 0x6B,\n",
    "    0x3A, 0x91, 0x11, 0x41, 0x4F, 0x67, 0xDC, 0xEA, 0x97, 0xF2, 0xCF, 0xCE, 0xF0, 0xB4, 0xE6, 0x73,\n",
    "    0x96, 0xAC, 0x74, 0x22, 0xE7, 0xAD, 0x35, 0x85, 0xE2, 0xF9, 0x37, 0xE8, 0x1C, 0x75, 0xDF, 0x6E,\n",
    "    0x47, 0xF1, 0x1A, 0x71, 0x1D, 0x29, 0xC5, 0x89, 0x6F, 0xB7, 0x62, 0x0E, 0xAA, 0x18, 0xBE, 0x1B,\n",
    "    0xFC, 0x56, 0x3E, 0x4B, 0xC6, 0xD2, 0x79, 0x20, 0x9A, 0xDB, 0xC0, 0xFE, 0x78, 0xCD, 0x5A, 0xF4,\n",
    "    0x1F, 0xDD, 0xA8, 0x33, 0x88, 0x07, 0xC7, 0x31, 0xB1, 0x12, 0x10, 0x59, 0x27, 0x80, 0xEC, 0x5F,\n",
    "    0x60, 0x51, 0x7F, 0xA9, 0x19, 0xB5, 0x4A, 0x0D, 0x2D, 0xE5, 0x7A, 0x9F, 0x93, 0xC9, 0x9C, 0xEF,\n",
    "    0xA0, 0xE0, 0x3B, 0x4D, 0xAE, 0x2A, 0xF5, 0xB0, 0xC8, 0xEB, 0xBB, 0x3C, 0x83, 0x53, 0x99, 0x61,\n",
    "    0x17, 0x2B, 0x04, 0x7E, 0xBA, 0x77, 0xD6, 0x26, 0xE1, 0x69, 0x14, 0x63, 0x55, 0x21, 0x0C, 0x7D\n",
    "    ], dtype=np.uint8)\n",
    "\n",
    "RCON = (\n",
    "    0x00, 0x01, 0x02, 0x04, 0x08, 0x10, 0x20, 0x40,\n",
    "    0x80, 0x1B, 0x36, 0x6C, 0xD8, 0xAB, 0x4D, 0x9A,\n",
    "    0x2F, 0x5E, 0xBC, 0x63, 0xC6, 0x97, 0x35, 0x6A,\n",
    "    0xD4, 0xB3, 0x7D, 0xFA, 0xEF, 0xC5, 0x91, 0x39,\n",
    ")\n",
    "\n",
    "def forward_key_schedule(key, n_rounds):\n",
    "    round_keys = list(key)\n",
    "    for i in range(4, 4*(n_rounds+1)):\n",
    "        a0, a1, a2, a3 = round_keys[(i-1)*4 : i*4]\n",
    "        if i % 4 == 0:\n",
    "            a0, a1, a2, a3 = AES_Sbox[a1], AES_Sbox[a2], AES_Sbox[a3], AES_Sbox[a0]\n",
    "            a0 = a0 ^ RCON[i//4]\n",
    "        b0, b1, b2, b3 = round_keys[(i-4)*4 : (i-3)*4]\n",
    "        round_keys.extend([a0^b0, a1^b1, a2^b2, a3^b3])\n",
    "    return round_keys\n",
    "\n",
    "def backward_key_schedule(last_round_key, n_rounds):\n",
    "    round_keys = list(last_round_key)\n",
    "    for i in range(n_rounds, 0, -1):\n",
    "        b12 = round_keys[12] ^ round_keys[8]\n",
    "        b13 = round_keys[13] ^ round_keys[9]\n",
    "        b14 = round_keys[14] ^ round_keys[10]\n",
    "        b15 = round_keys[15] ^ round_keys[11]\n",
    "\n",
    "        b8  = round_keys[8 ] ^ round_keys[4]\n",
    "        b9  = round_keys[9 ] ^ round_keys[5]\n",
    "        b10 = round_keys[10] ^ round_keys[6]\n",
    "        b11 = round_keys[11] ^ round_keys[7]\n",
    "\n",
    "        b4 = round_keys[4] ^ round_keys[0]\n",
    "        b5 = round_keys[5] ^ round_keys[1]\n",
    "        b6 = round_keys[6] ^ round_keys[2]\n",
    "        b7 = round_keys[7] ^ round_keys[3]\n",
    "\n",
    "        a0, a1, a2, a3 = AES_Sbox[b13], AES_Sbox[b14], AES_Sbox[b15], AES_Sbox[b12]\n",
    "        a0 = a0 ^ RCON[i]\n",
    "\n",
    "        b0 = a0 ^ round_keys[0]\n",
    "        b1 = a1 ^ round_keys[1]\n",
    "        b2 = a2 ^ round_keys[2]\n",
    "        b3 = a3 ^ round_keys[3]\n",
    "        \n",
    "        round_keys = [b0, b1, b2, b3, b4, b5, b6, b7, b8, b9, b10, b11, b12, b13, b14, b15] + round_keys\n",
    "    return round_keys"
   ]
  },
  {
   "cell_type": "code",
   "execution_count": 51,
   "metadata": {},
   "outputs": [
    {
     "data": {
      "text/html": [
       "<b>When VSCode dark mode active. Use this to render the progress-bars correcly </b>\n",
       "<style>\n",
       ".cell-output-ipywidget-background {\n",
       "    background-color: transparent !important;\n",
       "}\n",
       ":root {\n",
       "    --jp-widgets-color: var(--vscode-editor-foreground);\n",
       "    --jp-widgets-font-size: var(--vscode-editor-font-size);\n",
       "}  \n",
       "</style>\n"
      ],
      "text/plain": [
       "<IPython.core.display.HTML object>"
      ]
     },
     "metadata": {},
     "output_type": "display_data"
    }
   ],
   "source": [
    "%%html \n",
    "<b>When VSCode dark mode active. Use this to render the progress-bars correcly </b>\n",
    "<style>\n",
    ".cell-output-ipywidget-background {\n",
    "    background-color: transparent !important;\n",
    "}\n",
    ":root {\n",
    "    --jp-widgets-color: var(--vscode-editor-foreground);\n",
    "    --jp-widgets-font-size: var(--vscode-editor-font-size);\n",
    "}  \n",
    "</style>"
   ]
  },
  {
   "cell_type": "markdown",
   "metadata": {},
   "source": [
    "### Set demo global variables -----------------------------------------------------------------"
   ]
  },
  {
   "cell_type": "code",
   "execution_count": 52,
   "metadata": {},
   "outputs": [],
   "source": [
    "## Set the used key\n",
    "key_as_string:str = \"1199cc441199cc441199cc441199cc44\"\n",
    "assert len(key_as_string) == 32, \"Incorrect key lenght: {}\".format(len(key_as_string))\n",
    "AES_KEY = bytearray.fromhex(key_as_string)\n",
    "## Number of traces to collect\n",
    "NUMBER_OF_TRACES_TO_COLLECT = 2500\n",
    "## PC AES algorithm instance\n",
    "AES128_PC_Instance = AES.new(AES_KEY, AES.MODE_ECB)\n",
    "\n",
    "############################# VARIABLES FOR THE ACQUISITION CAMPAING ######################################\n",
    "enc_trace_array:list       = []\n",
    "enc_textin_array:list      = []\n",
    "enc_textout_array:list     = []\n",
    "enc_dev_textout_array:list = []\n",
    "\n",
    "dec_trace_array:list       = []\n",
    "dec_textin_array:list      = []\n",
    "dec_textout_array:list     = []\n",
    "dec_dev_textout_array:list = []\n",
    "\n",
    "## for printing purpose (not need to touch it)\n",
    "np.set_printoptions(formatter={'int':lambda x:hex(int(x))[2:]})"
   ]
  },
  {
   "cell_type": "markdown",
   "metadata": {},
   "source": [
    "##### Test the acquisition setup comparing device-PC encryption"
   ]
  },
  {
   "cell_type": "code",
   "execution_count": null,
   "metadata": {},
   "outputs": [],
   "source": [
    "enc_trace_array:list       = []\n",
    "enc_textin_array:list      = []\n",
    "enc_textout_array:list     = []\n",
    "enc_dev_textout_array:list = []\n",
    "## -------------------------------------------------------------------------------\n",
    "number_of_samples = 5\n",
    "for i in tnrange(number_of_samples, desc='[INFO]: Generating inputs for encryption: '):\n",
    "    text = get_next_plaintext()\n",
    "    ciphertext = AES128_PC_Instance.encrypt(text)\n",
    "    enc_textout_array.append(np.frombuffer(ciphertext, dtype=np.uint8))\n",
    "    enc_textin_array.append(np.frombuffer(text, dtype=np.uint8))\n",
    "## -------------------------------------------------------------------------------\n",
    "target.set_key(AES_KEY) ## set the key in the target\n",
    "for i in tnrange(number_of_samples, desc='[INFO]: Capturing traces: '):\n",
    "    scope.arm()\n",
    "    text = enc_textin_array[i].tobytes()\n",
    "    # Sending the plaintext\n",
    "    target.simpleserial_write('p', text)\n",
    "    # Capturing the power traces\n",
    "    ret = scope.capture()\n",
    "    if ret:\n",
    "        print(\"Target timed out!\")\n",
    "        continue  \n",
    "    # Read the ciphertext back\n",
    "    response = target.simpleserial_read('r', 16)\n",
    "    # Store the trace\n",
    "    enc_trace_array.append(scope.get_last_trace())\n",
    "    enc_dev_textout_array.append(np.frombuffer(response, dtype=np.uint8))\n",
    "    \n",
    "for i in tnrange(number_of_samples, desc='[INFO]: Asserting: '):\n",
    "    if not ((enc_dev_textout_array[i]==enc_textout_array[i]).all()):\n",
    "        print (\"Warning, found not equal outputs\")\n",
    "\n",
    "plt.style.use('./pltstyle.mplstyle')\n",
    "plt.plot(enc_trace_array[0])\n",
    "plt.show()\n",
    "plt.close()"
   ]
  },
  {
   "cell_type": "markdown",
   "metadata": {},
   "source": [
    "##### Test the acquisition setup comparing device-PC decryption"
   ]
  },
  {
   "cell_type": "code",
   "execution_count": null,
   "metadata": {},
   "outputs": [],
   "source": [
    "dec_trace_array:list       = []\n",
    "dec_textin_array:list      = []\n",
    "dec_textout_array:list     = []\n",
    "dec_dev_textout_array:list = []\n",
    "## -------------------------------------------------------------------------------\n",
    "number_of_samples = 5\n",
    "for i in tnrange(number_of_samples, desc='[INFO]: Generating inputs for decryption: '):\n",
    "    text = get_next_plaintext()\n",
    "    plaintext = AES128_PC_Instance.decrypt(text)\n",
    "    dec_textout_array.append(np.frombuffer(plaintext, dtype=np.uint8))\n",
    "    dec_textin_array.append(np.frombuffer(text, dtype=np.uint8))\n",
    "## -------------------------------------------------------------------------------\n",
    "target.set_key(AES_KEY) ## set the key in the target\n",
    "for i in tnrange(number_of_samples, desc='[INFO]: Capturing traces: '):\n",
    "    scope.arm()\n",
    "    text = dec_textin_array[i].tobytes()\n",
    "    # Sending the plaintext\n",
    "    target.simpleserial_write('c', text)\n",
    "    # Capturing the power traces\n",
    "    ret = scope.capture()\n",
    "    if ret:\n",
    "        print(\"Target timed out!\")\n",
    "        continue  \n",
    "    # Read the plaintext back\n",
    "    response = target.simpleserial_read('r', 16)\n",
    "    # Store the trace\n",
    "    dec_trace_array.append(scope.get_last_trace())\n",
    "    dec_dev_textout_array.append(np.frombuffer(response, dtype=np.uint8))\n",
    "    \n",
    "for i in tnrange(number_of_samples, desc='[INFO]: Asserting: '):\n",
    "    if not ((dec_dev_textout_array[i]==dec_textout_array[i]).all()):\n",
    "        print (\"Warning, found not equal outputs\")\n",
    "\n",
    "plt.style.use('./pltstyle.mplstyle')\n",
    "plt.plot(dec_trace_array[0])\n",
    "plt.show()\n",
    "plt.close()"
   ]
  },
  {
   "cell_type": "markdown",
   "metadata": {},
   "source": [
    "## Performing acquisition campaing ---------------------------------------"
   ]
  },
  {
   "cell_type": "markdown",
   "metadata": {},
   "source": [
    "### 0. Generating input for the campaing"
   ]
  },
  {
   "cell_type": "code",
   "execution_count": null,
   "metadata": {},
   "outputs": [],
   "source": [
    "enc_trace_array:list       = []\n",
    "enc_textin_array:list      = []\n",
    "enc_textout_array:list     = []\n",
    "enc_dev_textout_array:list = []\n",
    "\n",
    "dec_trace_array:list       = []\n",
    "dec_textin_array:list      = []\n",
    "dec_textout_array:list     = []\n",
    "dec_dev_textout_array:list = []\n",
    "\n",
    "## -------------------------------------------------------------------------------\n",
    "for i in tnrange(NUMBER_OF_TRACES_TO_COLLECT, desc='[INFO]: Generating inputs for encryption: '):\n",
    "    text = get_next_plaintext()\n",
    "    ciphertext = AES128_PC_Instance.encrypt(text)\n",
    "    enc_textout_array.append(np.frombuffer(ciphertext, dtype=np.uint8))\n",
    "    enc_textin_array.append(np.frombuffer(text, dtype=np.uint8))\n",
    "## -------------------------------------------------------------------------------\n",
    "for i in tnrange(NUMBER_OF_TRACES_TO_COLLECT, desc='[INFO]: Generating inputs for decryption: '):\n",
    "    text = enc_textout_array[i]\n",
    "    plaintext = AES128_PC_Instance.decrypt(text.tobytes())\n",
    "    dec_textout_array.append(np.frombuffer(plaintext, dtype=np.uint8))\n",
    "    dec_textin_array.append(np.frombuffer(text, dtype=np.uint8))"
   ]
  },
  {
   "cell_type": "markdown",
   "metadata": {},
   "source": [
    "### 1. Capturing traces for the encryption task"
   ]
  },
  {
   "cell_type": "code",
   "execution_count": null,
   "metadata": {},
   "outputs": [],
   "source": [
    "target.set_key(AES_KEY) ## set the key in the target\n",
    "for i in tnrange(NUMBER_OF_TRACES_TO_COLLECT, desc='[INFO]: Capturing traces: '):\n",
    "    scope.arm()\n",
    "    text = enc_textin_array[i].tobytes()\n",
    "    # Sending the plaintext\n",
    "    target.simpleserial_write('p', text)\n",
    "    # Capturing the power traces\n",
    "    ret = scope.capture()\n",
    "    if ret:\n",
    "        print(\"Target timed out!\")\n",
    "        continue\n",
    "    # Read the ciphertext back\n",
    "    response = target.simpleserial_read('r', 16)\n",
    "    # Store the trace\n",
    "    enc_trace_array.append(scope.get_last_trace())\n",
    "    enc_dev_textout_array.append(np.frombuffer(response, dtype=np.uint8))\n",
    "\n",
    "for i in tnrange(NUMBER_OF_TRACES_TO_COLLECT, desc='[INFO]: Asserting: '):\n",
    "    if not ((enc_dev_textout_array[i]==enc_textout_array[i]).all()):\n",
    "        print (\"Warning, found not equal outputs\")"
   ]
  },
  {
   "cell_type": "markdown",
   "metadata": {},
   "source": [
    "### 2. Capturing traces for the decryption task"
   ]
  },
  {
   "cell_type": "code",
   "execution_count": null,
   "metadata": {},
   "outputs": [],
   "source": [
    "target.set_key(AES_KEY) ## set the key in the target\n",
    "for i in tnrange(NUMBER_OF_TRACES_TO_COLLECT, desc='[INFO]: Capturing traces: '):\n",
    "    scope.arm()\n",
    "    text = dec_textin_array[i].tobytes()\n",
    "    # Sending the plaintext\n",
    "    target.simpleserial_write('c', text)\n",
    "    # Capturing the power traces\n",
    "    ret = scope.capture()\n",
    "    if ret:\n",
    "        print(\"Target timed out!\")\n",
    "        continue  \n",
    "    # Read the plaintext back\n",
    "    response = target.simpleserial_read('r', 16)\n",
    "    # Store the trace\n",
    "    dec_trace_array.append(scope.get_last_trace())\n",
    "    dec_dev_textout_array.append(np.frombuffer(response, dtype=np.uint8))\n",
    "    \n",
    "for i in tnrange(NUMBER_OF_TRACES_TO_COLLECT, desc='[INFO]: Asserting: '):\n",
    "    if not ((dec_dev_textout_array[i]==dec_textout_array[i]).all()):\n",
    "        print (\"Warning, found not equal outputs\")"
   ]
  },
  {
   "cell_type": "markdown",
   "metadata": {},
   "source": [
    "## Summary ---------------------------------------------------------------------"
   ]
  },
  {
   "cell_type": "code",
   "execution_count": 58,
   "metadata": {},
   "outputs": [
    {
     "name": "stdout",
     "output_type": "stream",
     "text": [
      "PC encryption:\n",
      "Plaintext shape: (2500, 16)\n",
      "Plaintext [0]: [c9 b6 8e 70 f0 df 8f c1 64 26 92 67 71 3b ba b4]\n",
      "Plaintext [1]: [4 d d0 90 18 5f 7b fb 8d ab f6 58 55 32 87 26]\n",
      "Plaintext [2]: [e1 e4 33 ff e3 6c 9d bc 30 fd 8c 57 9f 32 97 82]\n",
      "DEVICE encryption:\n",
      "Plaintext shape: (2500, 16)\n",
      "Plaintext [0]: [c9 b6 8e 70 f0 df 8f c1 64 26 92 67 71 3b ba b4]\n",
      "Plaintext [1]: [4 d d0 90 18 5f 7b fb 8d ab f6 58 55 32 87 26]\n",
      "Plaintext [2]: [e1 e4 33 ff e3 6c 9d bc 30 fd 8c 57 9f 32 97 82]\n",
      "PC decryption:\n",
      "Ciphertext shape: (2500, 16)\n",
      "Ciphertext [0]: [81 d0 4d 93 ab 90 49 ba 74 e3 84 c6 c6 64 be dd]\n",
      "Ciphertext [1]: [c5 ea 9f cf 4c d4 b5 86 58 42 75 94 c4 73 fe 31]\n",
      "Ciphertext [2]: [94 99 b a4 e2 bc 54 b1 8f 5a 22 fa fa a4 a6 c1]\n",
      "DEVICE decryption:\n",
      "Ciphertext shape: (2500, 16)\n",
      "Ciphertext [0]: [81 d0 4d 93 ab 90 49 ba 74 e3 84 c6 c6 64 be dd]\n",
      "Ciphertext [1]: [c5 ea 9f cf 4c d4 b5 86 58 42 75 94 c4 73 fe 31]\n",
      "Ciphertext [2]: [94 99 b a4 e2 bc 54 b1 8f 5a 22 fa fa a4 a6 c1]\n",
      "Encryption trace:\n",
      "enc_trace_array_np (2500, 5000)\n",
      "Decryption trace:\n",
      "dec_trace_array_np (2500, 5000)\n"
     ]
    }
   ],
   "source": [
    "enc_trace_array_np       = np.array(enc_trace_array)\n",
    "enc_textin_array_np      = np.array(enc_textin_array)\n",
    "enc_textout_array_np     = np.array(enc_textout_array)\n",
    "enc_dev_textout_array_np = np.array(enc_dev_textout_array)\n",
    "dec_trace_array_np       = np.array(dec_trace_array)\n",
    "dec_textin_array_np      = np.array(dec_textin_array)\n",
    "dec_textout_array_np     = np.array(dec_textout_array)\n",
    "dec_dev_textout_array_np = np.array(dec_dev_textout_array)\n",
    "\n",
    "print (\"PC encryption:\")\n",
    "print (\"Plaintext shape:\", enc_textin_array_np.shape)\n",
    "print (\"Plaintext [0]:\", enc_textin_array_np[0])\n",
    "print (\"Plaintext [1]:\", enc_textin_array_np[1])\n",
    "print (\"Plaintext [2]:\", enc_textin_array_np[2])\n",
    "print (\"DEVICE encryption:\")\n",
    "print (\"Plaintext shape:\", dec_dev_textout_array_np.shape)\n",
    "print (\"Plaintext [0]:\", dec_dev_textout_array_np[0])\n",
    "print (\"Plaintext [1]:\", dec_dev_textout_array_np[1])\n",
    "print (\"Plaintext [2]:\", dec_dev_textout_array_np[2])\n",
    "\n",
    "print (\"PC decryption:\")\n",
    "print (\"Ciphertext shape:\", dec_textin_array_np.shape)\n",
    "print (\"Ciphertext [0]:\", dec_textin_array_np[0])\n",
    "print (\"Ciphertext [1]:\", dec_textin_array_np[1])\n",
    "print (\"Ciphertext [2]:\", dec_textin_array_np[2])\n",
    "print (\"DEVICE decryption:\")\n",
    "print (\"Ciphertext shape:\", enc_dev_textout_array_np.shape)\n",
    "print (\"Ciphertext [0]:\", enc_dev_textout_array_np[0])\n",
    "print (\"Ciphertext [1]:\", enc_dev_textout_array_np[1])\n",
    "print (\"Ciphertext [2]:\", enc_dev_textout_array_np[2])\n",
    "\n",
    "print (\"Encryption trace:\")\n",
    "print (\"enc_trace_array_np\", enc_trace_array_np.shape)\n",
    "\n",
    "print (\"Decryption trace:\")\n",
    "print (\"dec_trace_array_np\", dec_trace_array_np.shape)"
   ]
  },
  {
   "cell_type": "markdown",
   "metadata": {},
   "source": [
    "### 1.2 Store the side-channel information"
   ]
  },
  {
   "cell_type": "code",
   "execution_count": 59,
   "metadata": {},
   "outputs": [],
   "source": [
    "np.save(\"enc_trace_array_np.npy\", enc_trace_array_np)\n",
    "np.save(\"enc_textin_array_np.npy\", enc_textin_array_np)\n",
    "np.save(\"enc_textout_array_np.npy\", enc_textout_array_np)\n",
    "np.save(\"enc_dev_textout_array_np.npy\", enc_dev_textout_array_np)\n",
    "np.save(\"dec_trace_array_np.npy\", dec_trace_array_np)\n",
    "np.save(\"dec_textin_array_np.npy\", dec_textin_array_np)\n",
    "np.save(\"dec_textout_array_np.npy\", dec_textout_array_np)\n",
    "np.save(\"dec_dev_textout_array_np.npy\", dec_dev_textout_array_np)"
   ]
  },
  {
   "cell_type": "markdown",
   "metadata": {},
   "source": [
    "## A bit of Side-channel analysis"
   ]
  },
  {
   "cell_type": "code",
   "execution_count": null,
   "metadata": {},
   "outputs": [],
   "source": [
    "corr = compute_corr(enc_trace_array_np, enc_textout_array_np, 10, NUMBER_OF_TRACES_TO_COLLECT)\n",
    "plt.plot(abs(corr))\n",
    "plt.show()"
   ]
  },
  {
   "cell_type": "code",
   "execution_count": null,
   "metadata": {},
   "outputs": [],
   "source": [
    "corr = compute_corr(dec_trace_array_np, dec_textin_array_np, 0, NUMBER_OF_TRACES_TO_COLLECT)\n",
    "plt.plot(abs(corr))\n",
    "plt.show()"
   ]
  },
  {
   "cell_type": "markdown",
   "metadata": {},
   "source": [
    "## Performing the side-channel attack"
   ]
  },
  {
   "cell_type": "code",
   "execution_count": null,
   "metadata": {},
   "outputs": [],
   "source": [
    "databyte_pos_init = 0\n",
    "databyte_pos_end  = 16\n",
    "data_length       = 16 #por AES-128\n",
    "used_points_init  = 0\n",
    "used_points_end   = dec_trace_array_np.shape[1]\n",
    "verbose           = True\n",
    "number_of_bits    = 8\n",
    "trs_dataset       = dec_trace_array_np\n",
    "ciphertext_array  = dec_textin_array_np\n",
    "interval = [0, ciphertext_array.shape[0]]\n",
    "\n",
    "for bit in tnrange(number_of_bits, desc=\"[INFO]: Per bit iteration\", leave=True):\n",
    "    recovered_key = []\n",
    "    for byte_pos in tnrange(data_length, desc=\"[INFO]: Per byte iteration\", leave=False):\n",
    "        delta = []\n",
    "        for key_guess in tnrange(256, desc=\"[INFO]: Per byte guessing\", leave=False):\n",
    "            zero_count = 0\n",
    "            one_count  = 0\n",
    "            zero_list  = np.array([0.0] * (used_points_end-used_points_init))\n",
    "            one_list   = np.array([0.0] * (used_points_end-used_points_init))\n",
    "            \n",
    "            #-------------------------------------------------------------------------------------------\n",
    "            # On of the interesting parts --------------------------------------------------------\n",
    "            for trace_index in range (interval[0], interval[1]):\n",
    "                intermediate_value = INV_SBOX[ciphertext_array[trace_index][byte_pos] ^ key_guess]\n",
    "                target_bit = (intermediate_value >> bit) & 1\n",
    "                if target_bit == 0:\n",
    "                    zero_list  += trs_dataset[trace_index][used_points_init:used_points_end]\n",
    "                    zero_count += 1\n",
    "                else:\n",
    "                    one_list   += trs_dataset[trace_index][used_points_init:used_points_end]\n",
    "                    one_count  += 1\n",
    "                    \n",
    "            #-------------------------------------------------------------------------------------------\n",
    "            \n",
    "            # Here you compute the means of each group (group 1 and group 0)\n",
    "            mean_delta_accu = np.abs((one_list/one_count) - (zero_list/zero_count))\n",
    "            delta.append(np.max(mean_delta_accu))\n",
    "        \n",
    "        assert len(delta) == 256\n",
    "        delta = np.array(delta)\n",
    "        predicted_byte = delta.argmax()\n",
    "        recovered_key.append(predicted_byte)\n",
    "    print(\"Round key:\", bytes(recovered_key[:16]).hex())\n",
    "    round_keys = backward_key_schedule(recovered_key, n_rounds=10)\n",
    "    print(\"Possible key:\", bytes(round_keys[:16]).hex())"
   ]
  },
  {
   "cell_type": "markdown",
   "metadata": {},
   "source": [
    "## Testing the found keys -------------------------------------------------------------"
   ]
  },
  {
   "cell_type": "code",
   "execution_count": 64,
   "metadata": {},
   "outputs": [
    {
     "name": "stdout",
     "output_type": "stream",
     "text": [
      "[INFO]: Run fools (º_º)!!\n"
     ]
    }
   ],
   "source": [
    "FOUND_KEY_string:str = \"1199cc441199cc441199cc441199cc44\"\n",
    "FOUND_KEY = bytearray.fromhex(FOUND_KEY_string)\n",
    "aes128 = AES.new(FOUND_KEY, AES.MODE_ECB)\n",
    "\n",
    "plaintext = enc_textin_array_np[0].tobytes()\n",
    "ciphertext = aes128.encrypt(plaintext)\n",
    "if not (enc_textout_array_np[0] == np.frombuffer(ciphertext, dtype=np.uint8)).all():\n",
    "    print(\"[INFO]: You shall no PASS!!\")\n",
    "else:\n",
    "    print(\"[INFO]: Run fools (º_º)!!\")"
   ]
  }
 ],
 "metadata": {
  "kernelspec": {
   "display_name": "Python 3 (ipykernel)",
   "language": "python",
   "name": "python3"
  },
  "language_info": {
   "codemirror_mode": {
    "name": "ipython",
    "version": 3
   },
   "file_extension": ".py",
   "mimetype": "text/x-python",
   "name": "python",
   "nbconvert_exporter": "python",
   "pygments_lexer": "ipython3",
   "version": "3.7.9"
  }
 },
 "nbformat": 4,
 "nbformat_minor": 2
}
